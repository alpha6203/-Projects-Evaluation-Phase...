{
 "cells": [
  {
   "cell_type": "code",
   "execution_count": null,
   "id": "db52c835",
   "metadata": {},
   "outputs": [],
   "source": [
    "#Basic and most important libraries\n",
    "import pandas as pd , numpy as np\n",
    "from sklearn.utils import resample\n",
    "from sklearn.preprocessing import StandardScaler , MinMaxScaler\n",
    "from collections import Counter\n",
    "from scipy import stats\n",
    "import matplotlib.pyplot as plt\n",
    "import seaborn as sns\n",
    "import plotly.express as px\n",
    "import plotly.figure_factory as ff\n",
    "import plotly\n",
    "\n",
    "#Classifiers\n",
    "from sklearn.ensemble import AdaBoostClassifier , GradientBoostingClassifier , VotingClassifier , RandomForestClassifier\n",
    "from sklearn.linear_model import LogisticRegression , RidgeClassifier\n",
    "from sklearn.discriminant_analysis import LinearDiscriminantAnalysis\n",
    "from sklearn.model_selection import RepeatedStratifiedKFold\n",
    "from sklearn.neighbors import KNeighborsClassifier\n",
    "from sklearn.model_selection import GridSearchCV\n",
    "from sklearn.tree import DecisionTreeClassifier \n",
    "from sklearn.naive_bayes import GaussianNB\n",
    "from xgboost import plot_importance\n",
    "from xgboost import XGBClassifier\n",
    "from sklearn.svm import SVC\n",
    "\n",
    "#Model evaluation tools\n",
    "from sklearn.metrics import classification_report , accuracy_score , confusion_matrix\n",
    "from sklearn.metrics import accuracy_score,f1_score\n",
    "from sklearn.model_selection import cross_val_score\n",
    "\n",
    "#Data processing functions\n",
    "from sklearn.preprocessing import StandardScaler\n",
    "from sklearn.model_selection import train_test_split\n",
    "from sklearn import model_selection\n",
    "from sklearn.preprocessing import LabelEncoder\n",
    "le = LabelEncoder()\n",
    "\n",
    "import warnings\n",
    "warnings.filterwarnings(\"ignore\")"
   ]
  },
  {
   "cell_type": "code",
   "execution_count": null,
   "id": "34e9a90c",
   "metadata": {},
   "outputs": [],
   "source": [
    "data = pd.read_csv(r\"C:\\Master\\Learning\\Analytics_Vidhya\\Loan_Prediction-Hackathon\\train.csv\")\n",
    "data.head(5)"
   ]
  },
  {
   "cell_type": "code",
   "execution_count": null,
   "id": "9776c1d9",
   "metadata": {},
   "outputs": [],
   "source": [
    "sns.pairplot(data)\n",
    "plt.show()"
   ]
  },
  {
   "cell_type": "code",
   "execution_count": null,
   "id": "db4fff6d",
   "metadata": {},
   "outputs": [],
   "source": [
    "data.describe()"
   ]
  },
  {
   "cell_type": "code",
   "execution_count": null,
   "id": "a1c0d1c0",
   "metadata": {},
   "outputs": [],
   "source": [
    "data.info()"
   ]
  },
  {
   "cell_type": "code",
   "execution_count": null,
   "id": "26ec0c67",
   "metadata": {},
   "outputs": [],
   "source": [
    "fig = px.scatter_matrix(data[\"ApplicantIncome\"])\n",
    "fig.update_layout(width=700,height=400)\n",
    "fig.show()"
   ]
  },
  {
   "cell_type": "code",
   "execution_count": null,
   "id": "e5b4bde3",
   "metadata": {},
   "outputs": [],
   "source": [
    "data.isnull().sum()"
   ]
  },
  {
   "cell_type": "code",
   "execution_count": null,
   "id": "23af6d28",
   "metadata": {},
   "outputs": [],
   "source": [
    "plt.figure(figsize=(10,6))\n",
    "sns.heatmap(data.isnull())"
   ]
  },
  {
   "cell_type": "code",
   "execution_count": null,
   "id": "cafac87a",
   "metadata": {},
   "outputs": [],
   "source": [
    "#Checking if the non-categorical variables are Normally Distributed or Not. i.e. Checking outliers...\n",
    "\n",
    "print(\"Data distribution analysis:->---------------------------------------\\n\")\n",
    "print(\"\\nMean:->\\n\")\n",
    "print(\"ApplicantIncome: \",np.mean(data[\"ApplicantIncome\"]))\n",
    "print(\"CoapplicantIncome: \",np.mean(data[\"CoapplicantIncome\"]))\n",
    "print(\"LoanAmount: \",np.mean(data[\"LoanAmount\"]))\n",
    "\n",
    "print(\"\\nMode:->\\n\")\n",
    "print(\"ApplicantIncome: \",stats.mode(data[\"ApplicantIncome\"])[0])\n",
    "print(\"CoapplicantIncome: \",stats.mode(data[\"CoapplicantIncome\"])[0])\n",
    "print(\"LoanAmount: \",stats.mode(data[\"LoanAmount\"])[0])\n",
    "\n",
    "print(\"\\nMedian:->\\n\")\n",
    "print(\"ApplicantIncome: \",np.median(data[\"ApplicantIncome\"]))\n",
    "print(\"CoapplicantIncome: \",np.median(data[\"CoapplicantIncome\"]))\n",
    "print(\"LoanAmount: \",np.median(data[\"LoanAmount\"]))\n",
    "\n",
    "print(\"\\nStandard Deviation:->\\n\")\n",
    "print(\"ApplicantIncome: \",np.std(data[\"ApplicantIncome\"]))\n",
    "print(\"CoapplicantIncome: \",np.std(data[\"CoapplicantIncome\"]))\n",
    "print(\"LoanAmount: \",np.std(data[\"LoanAmount\"]))\n",
    "\n",
    "fig = px.histogram(data[\"ApplicantIncome\"],x =\"ApplicantIncome\" ,y = \"ApplicantIncome\" )\n",
    "fig.update_layout(title=\"ApplicantIncome\")\n",
    "fig.show()\n",
    "\n",
    "fig = px.histogram(data[\"CoapplicantIncome\"],x =\"CoapplicantIncome\" ,y = \"CoapplicantIncome\" )\n",
    "fig.update_layout(title=\"CoapplicantIncome\")\n",
    "fig.show()\n",
    "\n",
    "fig = px.histogram(data[\"LoanAmount\"],x =\"LoanAmount\" ,y = \"LoanAmount\" )\n",
    "fig.update_layout(title=\"LoanAmount\")\n",
    "fig.show()"
   ]
  },
  {
   "cell_type": "code",
   "execution_count": null,
   "id": "8f209be1",
   "metadata": {},
   "outputs": [],
   "source": [
    "plt.figure(figsize=(10,5))\n",
    "fig = px.bar(data,x=data[\"Gender\"])\n",
    "fig.show()\n",
    "\n",
    "fig = px.bar(data,x=data[\"Married\"])\n",
    "fig.show()\n",
    "\n",
    "fig = px.bar(data,x=data[\"Education\"],color=\"Education\")\n",
    "fig.show()\n",
    "\n",
    "fig = px.bar(data,x=data[\"Self_Employed\"])\n",
    "fig.show()\n",
    "\n",
    "fig = px.bar(data,x=data[\"Dependents\"])\n",
    "fig.show()\n",
    "\n",
    "fig = px.bar(data,x=data[\"Property_Area\"])\n",
    "fig.show()\n",
    "\n",
    "fig = px.bar(data,x=data[\"Loan_Status\"],color=\"Loan_Status\")\n",
    "fig.show()"
   ]
  },
  {
   "cell_type": "code",
   "execution_count": null,
   "id": "b720a099",
   "metadata": {},
   "outputs": [],
   "source": [
    "print(data[\"Gender\"].value_counts())\n",
    "print(data[\"Married\"].value_counts())\n",
    "print(data[\"Self_Employed\"].value_counts())\n",
    "print(data[\"Dependents\"].value_counts())\n",
    "print(data[\"Credit_History\"].value_counts())\n",
    "print(data[\"Loan_Amount_Term\"].value_counts())"
   ]
  },
  {
   "cell_type": "code",
   "execution_count": null,
   "id": "c564cae6",
   "metadata": {},
   "outputs": [],
   "source": [
    "#Filling all Nan values with mode of respective variable\n",
    "data[\"Gender\"].fillna(data[\"Gender\"].mode()[0],inplace=True)\n",
    "data[\"Married\"].fillna(data[\"Married\"].mode()[0],inplace=True)\n",
    "data[\"Self_Employed\"].fillna(data[\"Self_Employed\"].mode()[0],inplace=True)\n",
    "data[\"Loan_Amount_Term\"].fillna(data[\"Loan_Amount_Term\"].mode()[0],inplace=True)\n",
    "data[\"Dependents\"].fillna(data[\"Dependents\"].mode()[0],inplace=True)\n",
    "data[\"Credit_History\"].fillna(data[\"Credit_History\"].mode()[0],inplace=True)\n",
    "\n",
    "#All values of \"Dependents\" columns were of \"str\" form now converting to \"int\" form.\n",
    "data[\"Dependents\"] = data[\"Dependents\"].replace('3+',int(3))\n",
    "data[\"Dependents\"] = data[\"Dependents\"].replace('1',int(1))\n",
    "data[\"Dependents\"] = data[\"Dependents\"].replace('2',int(2))\n",
    "data[\"Dependents\"] = data[\"Dependents\"].replace('0',int(0))\n",
    "\n",
    "data[\"LoanAmount\"].fillna(data[\"LoanAmount\"].median(),inplace=True)\n",
    "\n",
    "print(data.isnull().sum())\n",
    "\n",
    "#Heat map for null values\n",
    "plt.figure(figsize=(10,6))\n",
    "sns.heatmap(data.isnull())"
   ]
  },
  {
   "cell_type": "code",
   "execution_count": null,
   "id": "781efc2d",
   "metadata": {},
   "outputs": [],
   "source": [
    "#Treating outliers and Converting data to Normal Distribution\n",
    "#Before removing outlier\n",
    "\n",
    "print(\"\\nMean:->\\n\")\n",
    "print(\"ApplicantIncome: \",np.mean(data[\"ApplicantIncome\"]))\n",
    "print(\"CoapplicantIncome: \",np.mean(data[\"CoapplicantIncome\"]))\n",
    "print(\"LoanAmount: \",np.mean(data[\"LoanAmount\"]))\n",
    "\n",
    "print(\"\\nMode:->\\n\")\n",
    "print(\"ApplicantIncome: \",stats.mode(data[\"ApplicantIncome\"])[0])\n",
    "print(\"CoapplicantIncome: \",stats.mode(data[\"CoapplicantIncome\"])[0])\n",
    "print(\"LoanAmount: \",stats.mode(data[\"LoanAmount\"])[0])\n",
    "\n",
    "print(\"\\nMedian:->\\n\")\n",
    "print(\"ApplicantIncome: \",np.median(data[\"ApplicantIncome\"]))\n",
    "print(\"CoapplicantIncome: \",np.median(data[\"CoapplicantIncome\"]))\n",
    "print(\"LoanAmount: \",np.median(data[\"LoanAmount\"]))\n",
    "\n",
    "print(\"\\nStandard Deviation:->\\n\")\n",
    "print(\"ApplicantIncome: \",np.std(data[\"ApplicantIncome\"]))\n",
    "print(\"CoapplicantIncome: \",np.std(data[\"CoapplicantIncome\"]))\n",
    "print(\"LoanAmount: \",np.std(data[\"LoanAmount\"]))\n",
    "\n",
    "fig = px.histogram(data[\"ApplicantIncome\"],x =\"ApplicantIncome\" ,y = \"ApplicantIncome\" )\n",
    "fig.update_layout(title=\"ApplicantIncome\")\n",
    "fig.show()\n",
    "\n",
    "fig = px.histogram(data[\"CoapplicantIncome\"],x =\"CoapplicantIncome\" ,y = \"CoapplicantIncome\" )\n",
    "fig.update_layout(title=\"CoapplicantIncome\")\n",
    "fig.show()\n",
    "\n",
    "fig = px.histogram(data[\"LoanAmount\"],x =\"LoanAmount\" ,y = \"LoanAmount\" )\n",
    "fig.update_layout(title=\"LoanAmount\")\n",
    "fig.show()\n",
    "\n",
    "####################################################################################################\n",
    "#Getting log value :->\n",
    "\n",
    "data[\"ApplicantIncome\"] = np.log(data[\"ApplicantIncome\"])\n",
    "#As \"CoapplicantIncome\" columns has some \"0\" values we will get log values except \"0\"\n",
    "data[\"CoapplicantIncome\"] = [np.log(i) if i!=0 else 0 for i in data[\"CoapplicantIncome\"]]\n",
    "data[\"LoanAmount\"] = np.log(data[\"LoanAmount\"])\n",
    "####################################################################################################\n",
    "\n",
    "print(\"---------------------------After converting to Normal Distributed data----------------------\")\n",
    "\n",
    "print(\"\\nMean:->\\n\")\n",
    "print(\"ApplicantIncome: \",np.mean(data[\"ApplicantIncome\"]))\n",
    "print(\"CoapplicantIncome: \",np.mean(data[\"CoapplicantIncome\"]))\n",
    "print(\"LoanAmount: \",np.mean(data[\"LoanAmount\"]))\n",
    "\n",
    "print(\"\\nMode:->\\n\")\n",
    "print(\"ApplicantIncome: \",stats.mode(data[\"ApplicantIncome\"])[0])\n",
    "print(\"CoapplicantIncome: \",stats.mode(data[\"CoapplicantIncome\"])[0])\n",
    "print(\"LoanAmount: \",stats.mode(data[\"LoanAmount\"])[0])\n",
    "\n",
    "print(\"\\nMedian:->\\n\")\n",
    "print(\"ApplicantIncome: \",np.median(data[\"ApplicantIncome\"]))\n",
    "print(\"CoapplicantIncome: \",np.median(data[\"CoapplicantIncome\"]))\n",
    "print(\"LoanAmount: \",np.median(data[\"LoanAmount\"]))\n",
    "\n",
    "print(\"\\nStandard Deviation:->\\n\")\n",
    "print(\"ApplicantIncome: \",np.std(data[\"ApplicantIncome\"]))\n",
    "print(\"CoapplicantIncome: \",np.std(data[\"CoapplicantIncome\"]))\n",
    "print(\"LoanAmount: \",np.std(data[\"LoanAmount\"]))\n",
    "\n",
    "plt.figure(figsize=(10,4))\n",
    "fig = px.histogram(data[\"ApplicantIncome\"],x =\"ApplicantIncome\" ,y = \"ApplicantIncome\" )\n",
    "fig.update_layout(title=\"ApplicantIncome\")\n",
    "fig.show()\n",
    "\n",
    "fig = px.histogram(data[\"CoapplicantIncome\"],x =\"CoapplicantIncome\" ,y = \"CoapplicantIncome\" )\n",
    "fig.update_layout(title=\"CoapplicantIncome\")\n",
    "fig.show()\n",
    "\n",
    "fig = px.histogram(data[\"LoanAmount\"],x =\"LoanAmount\" ,y = \"LoanAmount\" )\n",
    "fig.update_layout(title=\"LoanAmount\")\n",
    "fig.show()"
   ]
  },
  {
   "cell_type": "code",
   "execution_count": null,
   "id": "5b8a30d6",
   "metadata": {},
   "outputs": [],
   "source": [
    "data.head(5)"
   ]
  },
  {
   "cell_type": "code",
   "execution_count": 3,
   "id": "30a715f0",
   "metadata": {},
   "outputs": [
    {
     "ename": "NameError",
     "evalue": "name 'le' is not defined",
     "output_type": "error",
     "traceback": [
      "\u001b[1;31m---------------------------------------------------------------------------\u001b[0m",
      "\u001b[1;31mNameError\u001b[0m                                 Traceback (most recent call last)",
      "Cell \u001b[1;32mIn[3], line 1\u001b[0m\n\u001b[1;32m----> 1\u001b[0m data[\u001b[38;5;124m\"\u001b[39m\u001b[38;5;124mGender\u001b[39m\u001b[38;5;124m\"\u001b[39m] \u001b[38;5;241m=\u001b[39m le\u001b[38;5;241m.\u001b[39mfit_transform(data[\u001b[38;5;124m\"\u001b[39m\u001b[38;5;124mGender\u001b[39m\u001b[38;5;124m\"\u001b[39m])\n\u001b[0;32m      2\u001b[0m data[\u001b[38;5;124m\"\u001b[39m\u001b[38;5;124mMarried\u001b[39m\u001b[38;5;124m\"\u001b[39m] \u001b[38;5;241m=\u001b[39m le\u001b[38;5;241m.\u001b[39mfit_transform(data[\u001b[38;5;124m\"\u001b[39m\u001b[38;5;124mMarried\u001b[39m\u001b[38;5;124m\"\u001b[39m])\n\u001b[0;32m      3\u001b[0m data[\u001b[38;5;124m\"\u001b[39m\u001b[38;5;124mEducation\u001b[39m\u001b[38;5;124m\"\u001b[39m] \u001b[38;5;241m=\u001b[39m le\u001b[38;5;241m.\u001b[39mfit_transform(data[\u001b[38;5;124m\"\u001b[39m\u001b[38;5;124mEducation\u001b[39m\u001b[38;5;124m\"\u001b[39m])\n",
      "\u001b[1;31mNameError\u001b[0m: name 'le' is not defined"
     ]
    }
   ],
   "source": [
    "data[\"Gender\"] = le.fit_transform(data[\"Gender\"])\n",
    "data[\"Married\"] = le.fit_transform(data[\"Married\"])\n",
    "data[\"Education\"] = le.fit_transform(data[\"Education\"])\n",
    "data[\"Self_Employed\"] = le.fit_transform(data[\"Self_Employed\"])\n",
    "data[\"Property_Area\"] = le.fit_transform(data[\"Property_Area\"])\n",
    "data[\"Loan_Status\"] = le.fit_transform(data[\"Loan_Status\"])\n",
    "\n",
    "#data = pd.get_dummies(data)\n",
    "data.head(5)"
   ]
  },
  {
   "cell_type": "code",
   "execution_count": null,
   "id": "edb98460",
   "metadata": {},
   "outputs": [],
   "source": []
  }
 ],
 "metadata": {
  "kernelspec": {
   "display_name": "Python 3 (ipykernel)",
   "language": "python",
   "name": "python3"
  },
  "language_info": {
   "codemirror_mode": {
    "name": "ipython",
    "version": 3
   },
   "file_extension": ".py",
   "mimetype": "text/x-python",
   "name": "python",
   "nbconvert_exporter": "python",
   "pygments_lexer": "ipython3",
   "version": "3.11.5"
  }
 },
 "nbformat": 4,
 "nbformat_minor": 5
}
